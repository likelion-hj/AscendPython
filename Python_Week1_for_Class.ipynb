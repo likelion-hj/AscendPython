{
  "nbformat": 4,
  "nbformat_minor": 0,
  "metadata": {
    "colab": {
      "name": "Python Week1 for Class.ipynb",
      "provenance": [],
      "collapsed_sections": []
    },
    "kernelspec": {
      "name": "python3",
      "display_name": "Python 3"
    }
  },
  "cells": [
    {
      "cell_type": "markdown",
      "metadata": {
        "id": "Nv7jv3HOa4df",
        "colab_type": "text"
      },
      "source": [
        "**Print**"
      ]
    },
    {
      "cell_type": "code",
      "metadata": {
        "id": "hB0EHS9PHrfL",
        "colab_type": "code",
        "outputId": "ebbea071-c00a-46cc-ec3a-3a9ca28c9f50",
        "colab": {
          "base_uri": "https://localhost:8080/",
          "height": 34
        }
      },
      "source": [
        "print ('Hello, world')"
      ],
      "execution_count": 0,
      "outputs": [
        {
          "output_type": "stream",
          "text": [
            "Hello, world\n"
          ],
          "name": "stdout"
        }
      ]
    },
    {
      "cell_type": "markdown",
      "metadata": {
        "id": "vUkWmJY334ee",
        "colab_type": "text"
      },
      "source": [
        "Variable"
      ]
    },
    {
      "cell_type": "code",
      "metadata": {
        "id": "SSNp_PwmICk0",
        "colab_type": "code",
        "outputId": "5f158812-bcb8-4ece-9715-65aad0d43157",
        "colab": {
          "base_uri": "https://localhost:8080/",
          "height": 51
        }
      },
      "source": [
        "a = \"Hello, world\"\n",
        "print (a)\n",
        "print (a.replace(\"Hello\",\"Bye\"))"
      ],
      "execution_count": 0,
      "outputs": [
        {
          "output_type": "stream",
          "text": [
            "Hello, world\n",
            "Bye, world\n"
          ],
          "name": "stdout"
        }
      ]
    },
    {
      "cell_type": "markdown",
      "metadata": {
        "id": "4JiWu-8acVdH",
        "colab_type": "text"
      },
      "source": [
        "List"
      ]
    },
    {
      "cell_type": "code",
      "metadata": {
        "id": "Q-NHMz8dIe-8",
        "colab_type": "code",
        "outputId": "bb8d51df-fc2b-4c68-bade-972107df8fa7",
        "colab": {
          "base_uri": "https://localhost:8080/",
          "height": 34
        }
      },
      "source": [
        "thisisIT = [\"Colin\", \"Lavender\", \"WeiWen\", \"Haley\", \"Adam\", \"Kimberley\"]\n",
        "thisisIT[1] = \"Bjorn\"\n",
        "print(thisisIT)"
      ],
      "execution_count": 0,
      "outputs": [
        {
          "output_type": "stream",
          "text": [
            "['Colin', 'Bjorn', 'WeiWen', 'Haley', 'Adam', 'Kimberley']\n"
          ],
          "name": "stdout"
        }
      ]
    },
    {
      "cell_type": "markdown",
      "metadata": {
        "id": "FC3pcRSNcVYy",
        "colab_type": "text"
      },
      "source": [
        "Loop: for\n"
      ]
    },
    {
      "cell_type": "code",
      "metadata": {
        "id": "8OahsRmWJBqs",
        "colab_type": "code",
        "outputId": "57d59704-a215-49b5-c71d-c1591073a8bb",
        "colab": {
          "base_uri": "https://localhost:8080/",
          "height": 136
        }
      },
      "source": [
        "thisisIT = [\"Colin\", \"Bjorn\", \"Lavender\", \"WeiWen\", \"Haley\", \"Adam\", \"Kimberley\"]\n",
        "for x in thisisIT:\n",
        "  print(x)"
      ],
      "execution_count": 0,
      "outputs": [
        {
          "output_type": "stream",
          "text": [
            "Colin\n",
            "Bjorn\n",
            "Lavender\n",
            "WeiWen\n",
            "Haley\n",
            "Adam\n",
            "Kimberley\n"
          ],
          "name": "stdout"
        }
      ]
    },
    {
      "cell_type": "markdown",
      "metadata": {
        "id": "gwyiY234ckaQ",
        "colab_type": "text"
      },
      "source": [
        "If"
      ]
    },
    {
      "cell_type": "code",
      "metadata": {
        "id": "5enMabWSJnft",
        "colab_type": "code",
        "outputId": "6725e459-04fa-4d27-f413-892d6063c61f",
        "colab": {
          "base_uri": "https://localhost:8080/",
          "height": 34
        }
      },
      "source": [
        "thisisIT = [\"Colin\", \"Bjorn\", \"Lavender\", \"WeiWen\", \"Haley\", \"Adam\", \"Kimberley\"]\n",
        "if \"Adam\" in thisislist:\n",
        "  print(\"Yes, Adam is in IT Committee\")"
      ],
      "execution_count": 0,
      "outputs": [
        {
          "output_type": "stream",
          "text": [
            "Yes, Adam is in IT Committee\n"
          ],
          "name": "stdout"
        }
      ]
    },
    {
      "cell_type": "markdown",
      "metadata": {
        "id": "mLBG45H7gSe0",
        "colab_type": "text"
      },
      "source": [
        "print f"
      ]
    },
    {
      "cell_type": "code",
      "metadata": {
        "id": "oIuosvc9fdF9",
        "colab_type": "code",
        "outputId": "005ebc87-ff7e-4cd0-b6d9-2f6878849699",
        "colab": {
          "base_uri": "https://localhost:8080/",
          "height": 34
        }
      },
      "source": [
        "thisislist = [\"Colin\", \"Bjorn\", \"Lavender\", \"WeiWen\", \"Haley\", \"Adam\", \"Kimberley\"]\n",
        "if \"Adam\" == thisislist[5]:\n",
        "  print(f'{thisislist[5]} is in IT Comittee')"
      ],
      "execution_count": 0,
      "outputs": [
        {
          "output_type": "stream",
          "text": [
            "Adam is in IT Comittee\n"
          ],
          "name": "stdout"
        }
      ]
    },
    {
      "cell_type": "code",
      "metadata": {
        "colab_type": "code",
        "id": "mDRMH8KC6uwo",
        "colab": {}
      },
      "source": [
        "thisislist = [\"Colin\", \"Bjorn\", \"Lavender\", \"WeiWen\", \"Haley\", \"Adam\", \"Kimberley\"]\n",
        "a = \"Adam\"\n",
        "if a == thisislist[3]:\n",
        "  print(f'{a} is in IT Comittee')"
      ],
      "execution_count": 0,
      "outputs": []
    },
    {
      "cell_type": "markdown",
      "metadata": {
        "id": "zQh_lYisKCwW",
        "colab_type": "text"
      },
      "source": [
        "if~else"
      ]
    },
    {
      "cell_type": "code",
      "metadata": {
        "id": "tF_KKMqsd61N",
        "colab_type": "code",
        "outputId": "c85e8619-c79c-4573-b0b8-7962bc9e9baa",
        "colab": {
          "base_uri": "https://localhost:8080/",
          "height": 34
        }
      },
      "source": [
        "thisislist = [\"Colin\", \"Bjorn\", \"Lavender\", \"WeiWen\", \"Haley\", \"Adam\", \"Kimberley\"]\n",
        "if \"Jane\" in thisislist:\n",
        "  print(\"Yes, Adam is in IT Committee\")\n",
        "else:\n",
        "    print(\"No\")"
      ],
      "execution_count": 0,
      "outputs": [
        {
          "output_type": "stream",
          "text": [
            "No\n"
          ],
          "name": "stdout"
        }
      ]
    },
    {
      "cell_type": "markdown",
      "metadata": {
        "id": "mdYRKbCWhZQz",
        "colab_type": "text"
      },
      "source": [
        "len functon"
      ]
    },
    {
      "cell_type": "code",
      "metadata": {
        "id": "KoShAqTjhcPV",
        "colab_type": "code",
        "outputId": "054e1dfb-c140-4183-f6cf-86bbaeac6bb0",
        "colab": {
          "base_uri": "https://localhost:8080/",
          "height": 34
        }
      },
      "source": [
        "thisislist = [\"Colin\", \"Bjorn\", \"Lavender\", \"WeiWen\", \"Haley\", \"Adam\", \"Kimberley\"]\n",
        "print(len(thisislist))"
      ],
      "execution_count": 0,
      "outputs": [
        {
          "output_type": "stream",
          "text": [
            "7\n"
          ],
          "name": "stdout"
        }
      ]
    },
    {
      "cell_type": "markdown",
      "metadata": {
        "id": "ajxhx7XGe2m3",
        "colab_type": "text"
      },
      "source": [
        "CRUD\n"
      ]
    },
    {
      "cell_type": "code",
      "metadata": {
        "id": "eHJb_jMVhuHI",
        "colab_type": "code",
        "outputId": "40a659a0-7f49-4f09-ed35-20f2787f62b9",
        "colab": {
          "base_uri": "https://localhost:8080/",
          "height": 34
        }
      },
      "source": [
        "thisislist = [\"Colin\", \"Bjorn\", \"Lavender\", \"WeiWen\", \"Haley\", \"Adam\", \"Kimberley\"] # create\n",
        "print(thisislist)"
      ],
      "execution_count": 0,
      "outputs": [
        {
          "output_type": "stream",
          "text": [
            "['Colin', 'Bjorn', 'Lavender', 'WeiWen', 'Haley', 'Adam', 'Kimberley']\n"
          ],
          "name": "stdout"
        }
      ]
    },
    {
      "cell_type": "code",
      "metadata": {
        "id": "1tRjmxa6KEEW",
        "colab_type": "code",
        "outputId": "21911d82-4e92-4c34-edd8-4cf1bf1e2c9c",
        "colab": {
          "base_uri": "https://localhost:8080/",
          "height": 34
        }
      },
      "source": [
        "thisislist = [\"Colin\", \"Bjorn\", \"Lavender\", \"WeiWen\", \"Haley\", \"Adam\", \"Kimberley\"]\n",
        "thisislist.append(\"U\") #update_adding\n",
        "print(thisislist)"
      ],
      "execution_count": 0,
      "outputs": [
        {
          "output_type": "stream",
          "text": [
            "['Colin', 'Bjorn', 'Lavender', 'WeiWen', 'Haley', 'Adam', 'Kimberley', 'U']\n"
          ],
          "name": "stdout"
        }
      ]
    },
    {
      "cell_type": "code",
      "metadata": {
        "id": "_MXKinG_iNf3",
        "colab_type": "code",
        "outputId": "cf750559-3bad-4161-c82b-0aa212a080ae",
        "colab": {
          "base_uri": "https://localhost:8080/",
          "height": 34
        }
      },
      "source": [
        "thisislist = [\"Colin\", \"Bjorn\", \"Lavender\", \"WeiWen\", \"Haley\", \"Adam\", \"Kimberley\"]\n",
        "thisislist.insert(1, \"U\") #add an item in the specific index\n",
        "print(thisislist)"
      ],
      "execution_count": 0,
      "outputs": [
        {
          "output_type": "stream",
          "text": [
            "['Colin', 'U', 'Bjorn', 'Lavender', 'WeiWen', 'Haley', 'Adam', 'Kimberley']\n"
          ],
          "name": "stdout"
        }
      ]
    },
    {
      "cell_type": "code",
      "metadata": {
        "id": "56H8FUxvKX5e",
        "colab_type": "code",
        "outputId": "3b8ccbd9-4172-480d-ea22-75fcf95f831c",
        "colab": {
          "base_uri": "https://localhost:8080/",
          "height": 34
        }
      },
      "source": [
        "thisislist = [\"Colin\",\"Bjorn\", \"Lavender\", \"Bjorn\",\"WeiWen\", \"Haley\", \"Adam\", \"Kimberley\"]\n",
        "thisislist.remove(\"Colin\")\n",
        "print(thisislist)"
      ],
      "execution_count": 0,
      "outputs": [
        {
          "output_type": "stream",
          "text": [
            "['Bjorn', 'Lavender', 'Bjorn', 'WeiWen', 'Haley', 'Adam', 'Kimberley']\n"
          ],
          "name": "stdout"
        }
      ]
    },
    {
      "cell_type": "code",
      "metadata": {
        "id": "Uzsxz7_fi0yk",
        "colab_type": "code",
        "outputId": "40fade6d-e054-48bf-bc4a-aadfd2aa7061",
        "colab": {
          "base_uri": "https://localhost:8080/",
          "height": 34
        }
      },
      "source": [
        "thisislist = [\"Colin\", \"Bjorn\", \"Lavender\", \"WeiWen\", \"Haley\", \"Adam\", \"Kimberley\"]\n",
        "thisislist.pop() #delete an item in the specific index\n",
        "print(thisislist)"
      ],
      "execution_count": 0,
      "outputs": [
        {
          "output_type": "stream",
          "text": [
            "['Colin', 'Bjorn', 'Lavender', 'WeiWen', 'Haley', 'Adam']\n"
          ],
          "name": "stdout"
        }
      ]
    },
    {
      "cell_type": "code",
      "metadata": {
        "id": "oV5TDh6-i7Ne",
        "colab_type": "code",
        "outputId": "525b3d47-4796-46db-9d04-818f6b4627b8",
        "colab": {
          "base_uri": "https://localhost:8080/",
          "height": 34
        }
      },
      "source": [
        "thisislist = [\"Colin\", \"Bjorn\", \"Lavender\", \"WeiWen\", \"Haley\", \"Adam\", \"Kimberley\"]\n",
        "thisislist.pop(0) #delete an item in the specific index\n",
        "print(thisislist)"
      ],
      "execution_count": 0,
      "outputs": [
        {
          "output_type": "stream",
          "text": [
            "['Bjorn', 'Lavender', 'WeiWen', 'Haley', 'Adam', 'Kimberley']\n"
          ],
          "name": "stdout"
        }
      ]
    },
    {
      "cell_type": "code",
      "metadata": {
        "id": "vehh59b0jAU2",
        "colab_type": "code",
        "outputId": "9cb127a5-817f-4d09-a2a5-f692b666bfb7",
        "colab": {
          "base_uri": "https://localhost:8080/",
          "height": 34
        }
      },
      "source": [
        "thisislist = [\"Colin\", \"Bjorn\", \"Lavender\", \"WeiWen\", \"Haley\", \"Adam\", \"Kimberley\"]\n",
        "del thisislist[0] #delete an item in the specific index\n",
        "print(thisislist)"
      ],
      "execution_count": 0,
      "outputs": [
        {
          "output_type": "stream",
          "text": [
            "['Bjorn', 'Lavender', 'WeiWen', 'Haley', 'Adam', 'Kimberley']\n"
          ],
          "name": "stdout"
        }
      ]
    },
    {
      "cell_type": "code",
      "metadata": {
        "id": "19i5c9mxjHv8",
        "colab_type": "code",
        "outputId": "46cce420-d969-4480-80e9-ea00c1fd2a1f",
        "colab": {
          "base_uri": "https://localhost:8080/",
          "height": 34
        }
      },
      "source": [
        "thisislist = [\"Colin\", \"Bjorn\", \"Lavender\", \"WeiWen\", \"Haley\", \"Adam\", \"Kimberley\"]\n",
        "thisislist.clear() #delete whole\n",
        "print(thisislist)"
      ],
      "execution_count": 0,
      "outputs": [
        {
          "output_type": "stream",
          "text": [
            "[]\n"
          ],
          "name": "stdout"
        }
      ]
    },
    {
      "cell_type": "markdown",
      "metadata": {
        "id": "yCDCQYnUTmKE",
        "colab_type": "text"
      },
      "source": [
        "Import, read, write csv file\n"
      ]
    },
    {
      "cell_type": "code",
      "metadata": {
        "id": "wXnYUaa5WjEa",
        "colab_type": "code",
        "outputId": "d5866665-76b7-4c8d-c597-2ce06cef3f7e",
        "colab": {
          "base_uri": "https://localhost:8080/",
          "height": 238
        }
      },
      "source": [
        "import csv\n",
        "\n",
        "with open('Workbook1.csv') as csv_file:\n",
        "    csv_reader = csv.reader(csv_file, delimiter=',')\n",
        "    for line in csv_reader:\n",
        "      print(line)"
      ],
      "execution_count": 0,
      "outputs": [
        {
          "output_type": "stream",
          "text": [
            "['First Name', 'Year', 'Major', 'Birthday Month', 'Nationality']\n",
            "['Joon', 'Freshman', 'Information Systems', 'February', 'South Korea']\n",
            "['Haley', 'Junior', 'Finance', 'July', 'South Korea']\n",
            "['Vicky', 'Junior', 'Finance', 'September', 'China']\n",
            "['Kevin', 'Freshman', 'Finance', 'September', 'Indonesia']\n",
            "['Yuxin', 'Freshman', 'Accounting & Economics consulting', 'July', 'China']\n",
            "['Zhijian', 'Junior', 'Accounting & Finance', 'August', 'China']\n",
            "['Colin', 'Senior', 'Information Systems & Supply Chain Management', 'November', 'Malaysia']\n",
            "['Charlie', 'Junior', 'Economic Consulting', 'March', 'China']\n",
            "['Soonhyuk', 'Freshman', 'Accounting', 'April', 'South Korea']\n",
            "['Riya', 'Freshman', 'Finance and Math', 'March', 'India']\n",
            "['Xinyi', 'Senior', 'Management', 'October', 'China']\n",
            "['Hai', 'Sophomore', 'Finance & International Business', 'September', 'Viet Nam']\n"
          ],
          "name": "stdout"
        }
      ]
    },
    {
      "cell_type": "code",
      "metadata": {
        "id": "VyVKCuelXRuL",
        "colab_type": "code",
        "outputId": "f4c7e503-fd53-4025-efbc-c553ad984dd0",
        "colab": {
          "base_uri": "https://localhost:8080/",
          "height": 238
        }
      },
      "source": [
        "import csv\n",
        "\n",
        "with open('Workbook1.csv') as csv_file:\n",
        "    csv_reader = csv.reader(csv_file, delimiter=',')\n",
        "    for line in csv_reader:\n",
        "      print(line[2])"
      ],
      "execution_count": 0,
      "outputs": [
        {
          "output_type": "stream",
          "text": [
            "Major\n",
            "Information Systems\n",
            "Finance\n",
            "Finance\n",
            "Finance\n",
            "Accounting & Economics consulting\n",
            "Accounting & Finance\n",
            "Information Systems & Supply Chain Management\n",
            "Economic Consulting\n",
            "Accounting\n",
            "Finance and Math\n",
            "Management\n",
            "Finance & International Business\n"
          ],
          "name": "stdout"
        }
      ]
    },
    {
      "cell_type": "code",
      "metadata": {
        "id": "agNbSh_6Yi2r",
        "colab_type": "code",
        "outputId": "cb1a9d78-2e2b-449f-ca08-4ad916f7c651",
        "colab": {
          "base_uri": "https://localhost:8080/",
          "height": 238
        }
      },
      "source": [
        "import csv\n",
        "\n",
        "with open('Workbook1.csv') as csv_file:\n",
        "    csv_reader = csv.reader(csv_file, delimiter=',')\n",
        "    for line in csv_reader:\n",
        "      print(line[2])"
      ],
      "execution_count": 0,
      "outputs": [
        {
          "output_type": "stream",
          "text": [
            "Major\n",
            "Information Systems\n",
            "Finance\n",
            "Finance\n",
            "Finance\n",
            "Accounting & Economics consulting\n",
            "Accounting & Finance\n",
            "Information Systems & Supply Chain Management\n",
            "Economic Consulting\n",
            "Accounting\n",
            "Finance and Math\n",
            "Management\n",
            "Finance & International Business\n"
          ],
          "name": "stdout"
        }
      ]
    },
    {
      "cell_type": "code",
      "metadata": {
        "id": "e1vn5m5_tfij",
        "colab_type": "code",
        "colab": {}
      },
      "source": [
        "import csv\n",
        "\n",
        "with open('Workbook1.csv','w') as csv_file:\n",
        "    csv_writer = csv.writer(csv_file, delimiter=',')\n",
        "    csv_writer.writerow(['Name','Department','Month'])\n",
        "    csv_writer.writerow(['Haley Hwang','IT','July'])\n",
        "    csv_writer.writerow(['Bjorn','IT','February'])\n",
        "\n"
      ],
      "execution_count": 0,
      "outputs": []
    },
    {
      "cell_type": "code",
      "metadata": {
        "id": "j8OmgrZO2Zfo",
        "colab_type": "code",
        "outputId": "2380b9e6-c7e1-402b-a301-91212d4651c3",
        "colab": {
          "base_uri": "https://localhost:8080/",
          "height": 102
        }
      },
      "source": [
        "import csv\n",
        "\n",
        "with open('Workbook1.csv', 'r') as csv_file:\n",
        "    csv_reader = csv.reader(csv_file, delimiter=',')\n",
        "    \n",
        "    with open('Workbook1.csv','a') as csv_file:\n",
        "      csv_writer = csv.writer(csv_file, delimiter=',')\n",
        "\n",
        "      csv_writer.writerow(['Colin Ooi', 'IT', 'November'])\n",
        "      csv_writer.writerow(['Lavender Xu','IT','April'])\n",
        "    \n",
        "    for line in csv_reader:\n",
        "      print(line)"
      ],
      "execution_count": 0,
      "outputs": [
        {
          "output_type": "stream",
          "text": [
            "['Name', 'Department', 'Month']\n",
            "['Haley Hwang', 'IT', 'July']\n",
            "['Bjorn', 'IT', 'February']\n",
            "['Colin Ooi', 'IT', 'November']\n",
            "['Lavender Xu', 'IT', 'April']\n"
          ],
          "name": "stdout"
        }
      ]
    },
    {
      "cell_type": "markdown",
      "metadata": {
        "id": "HK50O781cy5a",
        "colab_type": "text"
      },
      "source": [
        "Next Class"
      ]
    },
    {
      "cell_type": "code",
      "metadata": {
        "id": "ljFDXK3VTo-v",
        "colab_type": "code",
        "outputId": "6424663f-bb2b-4e75-ebec-8af2492215d0",
        "colab": {
          "base_uri": "https://localhost:8080/",
          "height": 119
        }
      },
      "source": [
        "import csv\n",
        "\n",
        "with open('Workbook1.csv') as csv_file:\n",
        "    csv_reader = csv.reader(csv_file, delimiter=',')\n",
        "    line_count = 0\n",
        "    for row in csv_reader:\n",
        "        if line_count == 0:\n",
        "            print(f'Column names are {\", \".join(row)}')\n",
        "            line_count += 1\n",
        "        else:\n",
        "            print(f'\\t{row[0]} works in the {row[1]} department, and was born in {row[2]}.')\n",
        "            line_count += 1\n",
        "    print(f'Processed {line_count} lines.')"
      ],
      "execution_count": 0,
      "outputs": [
        {
          "output_type": "stream",
          "text": [
            "Column names are Name, Department, Month\n",
            "\tHaley Hwang works in the IT department, and was born in July.\n",
            "\tBjorn works in the IT department, and was born in February.\n",
            "\tColin Ooi works in the IT department, and was born in November.\n",
            "\tLavender Xu works in the IT department, and was born in April.\n",
            "Processed 5 lines.\n"
          ],
          "name": "stdout"
        }
      ]
    }
  ]
}