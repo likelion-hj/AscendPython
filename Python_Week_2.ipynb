{
  "nbformat": 4,
  "nbformat_minor": 0,
  "metadata": {
    "colab": {
      "name": "Python Week 2.ipynb",
      "provenance": [],
      "collapsed_sections": []
    },
    "kernelspec": {
      "name": "python3",
      "display_name": "Python 3"
    }
  },
  "cells": [
    {
      "cell_type": "markdown",
      "metadata": {
        "id": "RM9iG568CXp0",
        "colab_type": "text"
      },
      "source": [
        "Read"
      ]
    },
    {
      "cell_type": "code",
      "metadata": {
        "colab_type": "code",
        "id": "o03XOASOCHYd",
        "outputId": "627a1cb5-779d-432a-ec18-f06ed60f4652",
        "colab": {
          "base_uri": "https://localhost:8080/",
          "height": 238
        }
      },
      "source": [
        "import csv\n",
        "\n",
        "with open('Workbook2.csv', 'r') as csv_file:\n",
        "    csv_reader = csv.reader(csv_file, delimiter=',')\n",
        "    for line in csv_reader:\n",
        "      print(line)"
      ],
      "execution_count": 0,
      "outputs": [
        {
          "output_type": "stream",
          "text": [
            "['First Name', 'Major1', 'Major2', 'Birthday Month', 'Nationality']\n",
            "['Joon', 'Information Systems', '', 'February', 'South Korea']\n",
            "['Haley', 'Finance', 'Business Analytics', 'July', 'South Korea']\n",
            "['Vicky', 'Finance', '', 'September', 'China']\n",
            "['Kevin', 'Finance', '', 'September', 'Indonesia']\n",
            "['Yuxin', 'Accounting', 'Economics consulting', 'July', 'China']\n",
            "['Zhijian', 'Accounting', 'Finance', 'August', 'China']\n",
            "['Colin', 'Information Systems', 'Supply Chain Management', 'November', 'Malaysia']\n",
            "['Charlie', 'Economic Consulting', '', 'March', 'China']\n",
            "['Soonhyuk', 'Accounting', '', 'April', 'South Korea']\n",
            "['Riya', 'Finance', 'Math', 'March', 'India']\n",
            "['Xinyi', 'Management', '', 'October', 'China']\n",
            "['Hai', 'Finance', 'International Business', 'September', 'Viet Nam']\n"
          ],
          "name": "stdout"
        }
      ]
    },
    {
      "cell_type": "code",
      "metadata": {
        "id": "w_QPqhgLIrBv",
        "colab_type": "code",
        "outputId": "822ad981-ce94-483a-840d-82557e39f9ab",
        "colab": {
          "base_uri": "https://localhost:8080/",
          "height": 238
        }
      },
      "source": [
        "import csv\n",
        "\n",
        "with open('Workbook2.csv', 'r') as csv_file:\n",
        "    csv_reader = csv.reader(csv_file, delimiter=',')\n",
        "    for line in csv_reader:\n",
        "      print(line[0])"
      ],
      "execution_count": 0,
      "outputs": [
        {
          "output_type": "stream",
          "text": [
            "First Name\n",
            "Joon\n",
            "Haley\n",
            "Vicky\n",
            "Kevin\n",
            "Yuxin\n",
            "Zhijian\n",
            "Colin\n",
            "Charlie\n",
            "Soonhyuk\n",
            "Riya\n",
            "Xinyi\n",
            "Hai\n"
          ],
          "name": "stdout"
        }
      ]
    },
    {
      "cell_type": "markdown",
      "metadata": {
        "id": "m9WhoKIwCaYb",
        "colab_type": "text"
      },
      "source": [
        "Write"
      ]
    },
    {
      "cell_type": "code",
      "metadata": {
        "colab_type": "code",
        "id": "y2gCCuSICHYe",
        "colab": {}
      },
      "source": [
        "import csv\n",
        "\n",
        "with open('Workbook2.csv','w') as csv_file:\n",
        "    csv_writer = csv.writer(csv_file, delimiter=',')\n",
        "    csv_writer.writerow(['First Name', 'Major1', 'Major2', 'Birthday Month', 'Nationality'])\n",
        "    csv_writer.writerow(['Haley', 'Finance', 'Business Analytics', 'July', 'South Korea'])\n",
        "    csv_writer.writerow(['Joon', 'Information Systems', '', 'February', 'South Korea'])\n",
        "    csv_writer.writerow(['Vicky', 'Finance', '', 'September', 'China'])\n",
        "\n"
      ],
      "execution_count": 0,
      "outputs": []
    },
    {
      "cell_type": "markdown",
      "metadata": {
        "id": "z2ux_BGXC_eY",
        "colab_type": "text"
      },
      "source": [
        "위의 코드가 안 될 경우 이거 사용"
      ]
    },
    {
      "cell_type": "code",
      "metadata": {
        "id": "QvLXmNoK1vOL",
        "colab_type": "code",
        "outputId": "9ab16407-83c1-4244-9911-58ec6c5979e1",
        "colab": {
          "base_uri": "https://localhost:8080/",
          "height": 68
        }
      },
      "source": [
        "import csv\n",
        "\n",
        "with open('Workbook1.csv', 'r') as csv_file:\n",
        "    csv_reader = csv.reader(csv_file, delimiter=',')\n",
        "    \n",
        "    with open('Workbook1.csv','w') as csv_file:\n",
        "      csv_writer = csv.writer(csv_file, delimiter=',')\n",
        "      csv_writer.writerow(['Name','Department','Month'])\n",
        "      csv_writer.writerow(['Haley Hwang','IT','July'])\n",
        "      csv_writer.writerow(['Bjorn','IT','February'])\n",
        "    \n",
        "    for line in csv_reader:\n",
        "      csv_writer.writerow(line)"
      ],
      "execution_count": 0,
      "outputs": [
        {
          "output_type": "stream",
          "text": [
            "['Name', 'Department', 'Month']\n",
            "['Haley Hwang', 'IT', 'July']\n",
            "['Bjorn', 'IT', 'February']\n"
          ],
          "name": "stdout"
        }
      ]
    },
    {
      "cell_type": "markdown",
      "metadata": {
        "id": "lmqwmDXqDZwE",
        "colab_type": "text"
      },
      "source": [
        "쓴코드 Print 보는 법 (새로 원래파일 업로드하고 해야함)"
      ]
    },
    {
      "cell_type": "code",
      "metadata": {
        "id": "AOCuWqNL0eJT",
        "colab_type": "code",
        "colab": {}
      },
      "source": [
        "import csv\n",
        "\n",
        "with open('Workbook1.csv', 'r') as csv_file:\n",
        "    csv_reader = csv.reader(csv_file, delimiter=',')\n",
        "    \n",
        "    with open('Workbook1.csv','w') as csv_file:\n",
        "      csv_writer = csv.writer(csv_file, delimiter=',')\n",
        "      csv_writer.writerow(['Name','Department','Month'])\n",
        "      csv_writer.writerow(['Haley Hwang','IT','July'])\n",
        "      csv_writer.writerow(['Bjorn','IT','February'])\n",
        "    \n",
        "    for line in csv_reader:\n",
        "      print(line)"
      ],
      "execution_count": 0,
      "outputs": []
    },
    {
      "cell_type": "markdown",
      "metadata": {
        "id": "ZjzekS-aDzbB",
        "colab_type": "text"
      },
      "source": [
        "Append"
      ]
    },
    {
      "cell_type": "code",
      "metadata": {
        "colab_type": "code",
        "id": "rd8drhDACHYi",
        "colab": {}
      },
      "source": [
        "import csv\n",
        "\n",
        "with open('Workbook1.csv', 'r') as csv_file:\n",
        "    csv_reader = csv.reader(csv_file, delimiter=',')\n",
        "    \n",
        "    with open('Workbook1.csv','a') as csv_file:\n",
        "      csv_writer = csv.writer(csv_file, delimiter=',')\n",
        "\n",
        "      csv_writer.writerow(['Colin Ooi', 'IT', 'November'])\n",
        "      csv_writer.writerow(['Lavender Xu','IT','April'])\n",
        "    \n",
        "    for line in csv_reader:\n",
        "      print(line)"
      ],
      "execution_count": 0,
      "outputs": []
    },
    {
      "cell_type": "markdown",
      "metadata": {
        "colab_type": "text",
        "id": "e6oloevjCHYm"
      },
      "source": [
        "Hardest"
      ]
    },
    {
      "cell_type": "code",
      "metadata": {
        "id": "MfWgrt1B2oFT",
        "colab_type": "code",
        "outputId": "87e32868-a404-4ac2-a429-ff73a773589a",
        "colab": {
          "base_uri": "https://localhost:8080/",
          "height": 275
        }
      },
      "source": [
        "import csv\n",
        "\n",
        "with open('Workbook1.csv') as csv_file:\n",
        "    csv_reader = csv.reader(csv_file, delimiter=',')\n",
        "    line_count = 0\n",
        "    for row in csv_reader:\n",
        "        if line_count == 0:\n",
        "            print(f'Column names are {\", \".join(row)}')\n",
        "            line_count += 1\n",
        "        else:\n",
        "            print(f'\\t{row[0]} works in the {row[1]} department, and was born in {row[2]}.')\n",
        "            line_count += 1\n",
        "    print(f'Processed {line_count} lines.')"
      ],
      "execution_count": 0,
      "outputs": [
        {
          "output_type": "stream",
          "text": [
            "Column names are First Name, Year, Major, Birthday Month, Nationality\n",
            "\tJoon works in the Freshman department, and was born in Information Systems.\n",
            "\tHaley works in the Junior department, and was born in Finance.\n",
            "\tVicky works in the Junior department, and was born in Finance.\n",
            "\tKevin works in the Freshman department, and was born in Finance.\n",
            "\tYuxin works in the Freshman department, and was born in Accounting & Economics consulting.\n",
            "\tZhijian works in the Junior department, and was born in Accounting & Finance.\n",
            "\tColin works in the Senior department, and was born in Information Systems & Supply Chain Management.\n",
            "\tCharlie works in the Junior department, and was born in Economic Consulting.\n",
            "\tSoonhyuk works in the Freshman department, and was born in Accounting.\n",
            "\tRiya works in the Freshman department, and was born in Finance and Math.\n",
            "\tXinyi works in the Senior department, and was born in Management.\n",
            "\tHai works in the Sophomore department, and was born in Finance & International Business.\n",
            "Processed 13 lines.\n"
          ],
          "name": "stdout"
        }
      ]
    },
    {
      "cell_type": "code",
      "metadata": {
        "id": "kDZNaiYx3zXh",
        "colab_type": "code",
        "outputId": "602d13ec-5456-4487-cbf9-e4df6e8cb36e",
        "colab": {
          "base_uri": "https://localhost:8080/",
          "height": 34
        }
      },
      "source": [
        "s = \"-\"\n",
        "seq = (\"a\", \"b\", \"c\") # This is sequence of strings.\n",
        "print (s.join( seq ))"
      ],
      "execution_count": 0,
      "outputs": [
        {
          "output_type": "stream",
          "text": [
            "a-b-c\n"
          ],
          "name": "stdout"
        }
      ]
    },
    {
      "cell_type": "code",
      "metadata": {
        "id": "buzfYlWoy_AL",
        "colab_type": "code",
        "outputId": "126c603e-488c-4a21-fe24-6867a42e5fe2",
        "colab": {
          "base_uri": "https://localhost:8080/",
          "height": 34
        }
      },
      "source": [
        "seq = (\"a\", \"b\", \"c\"); # This is sequence of strings.\n",
        "print (\"-\".join( seq ))"
      ],
      "execution_count": 0,
      "outputs": [
        {
          "output_type": "stream",
          "text": [
            "a-b-c\n"
          ],
          "name": "stdout"
        }
      ]
    },
    {
      "cell_type": "markdown",
      "metadata": {
        "id": "NYvQZkRyRFuD",
        "colab_type": "text"
      },
      "source": [
        "**Reupload the original Workbook2 before jumping into the activity**\n",
        "\n",
        "Activity 1. Find the person with the same nationality!"
      ]
    },
    {
      "cell_type": "code",
      "metadata": {
        "id": "v9wHgLJC0Xlu",
        "colab_type": "code",
        "outputId": "feb05504-a3ea-4259-adb8-58b1f9d22631",
        "colab": {
          "base_uri": "https://localhost:8080/",
          "height": 85
        }
      },
      "source": [
        "import csv\n",
        "\n",
        "with open('Workbook2.csv') as csv_file:\n",
        "    csv_reader = csv.reader(csv_file, delimiter=',')\n",
        "    line_count = 0\n",
        "    for row in csv_reader:\n",
        "        if  row[3]==\"South Korea\":\n",
        "            print(f'{row[0]} has the same nationality with you!')\n",
        "            line_count += 1\n",
        "    print(f'Total {line_count} people.')"
      ],
      "execution_count": 0,
      "outputs": [
        {
          "output_type": "stream",
          "text": [
            "Joon has the same nationality with you!\n",
            "Haley has the same nationality with you!\n",
            "Soonhyuk has the same nationality with you!\n",
            "Total 3 people.\n"
          ],
          "name": "stdout"
        }
      ]
    },
    {
      "cell_type": "markdown",
      "metadata": {
        "id": "2YGIGApSRJUA",
        "colab_type": "text"
      },
      "source": [
        "Activity 2. Happy Birthday Bulletin Board"
      ]
    },
    {
      "cell_type": "code",
      "metadata": {
        "id": "Aii7WOhL1PJB",
        "colab_type": "code",
        "outputId": "90c30eb1-04fd-4742-8c87-9d2be2c8ab35",
        "colab": {
          "base_uri": "https://localhost:8080/",
          "height": 85
        }
      },
      "source": [
        "import csv\n",
        "\n",
        "with open('Workbook2.csv') as csv_file:\n",
        "    csv_reader = csv.reader(csv_file, delimiter=',')\n",
        "    line_count = 0\n",
        "    print(\"Happy Birthday Bullentin Board\")\n",
        "    for row in csv_reader:\n",
        "        if  row[3]==\"March\":\n",
        "            print(f'\\tHappy Birthday, {row[0]}')\n",
        "            line_count += 1\n",
        "    print(f'Total {line_count} people is born in March.')"
      ],
      "execution_count": 0,
      "outputs": [
        {
          "output_type": "stream",
          "text": [
            "Happy Birthday Bullentin Board\n",
            "\tHappy Birthday, Charlie\n",
            "\tHappy Birthday, Riya\n",
            "Total 2 people is born in March.\n"
          ],
          "name": "stdout"
        }
      ]
    },
    {
      "cell_type": "markdown",
      "metadata": {
        "id": "vLLj1hohRNwx",
        "colab_type": "text"
      },
      "source": [
        "Activity 3. Major Database: Whom to Ask"
      ]
    },
    {
      "cell_type": "code",
      "metadata": {
        "id": "tHtk_XuO1iW5",
        "colab_type": "code",
        "outputId": "35fdc914-2a49-4ac0-fa00-f163c6cbeb0e",
        "colab": {
          "base_uri": "https://localhost:8080/",
          "height": 154
        }
      },
      "source": [
        "import csv\n",
        "\n",
        "with open('Workbook2.csv') as csv_file:\n",
        "    csv_reader = csv.reader(csv_file, delimiter=',')\n",
        "    line_count = 0\n",
        "    a=input(\"What major are you interested in?\")\n",
        "    for row in csv_reader:\n",
        "        if  row[1]== a or row[2]== a:\n",
        "            print(f'Ask {row[0]} about {a}')\n",
        "            line_count += 1\n",
        "    print(f'Total {line_count} people is majoring in {a}.')"
      ],
      "execution_count": 0,
      "outputs": [
        {
          "output_type": "stream",
          "text": [
            "What major are you interested in?Finance\n",
            "Ask Haley about Finance\n",
            "Ask Vicky about Finance\n",
            "Ask Kevin about Finance\n",
            "Ask Zhijian about Finance\n",
            "Ask Riya about Finance\n",
            "Ask Hai about Finance\n",
            "Total 6 people is majoring in Finance.\n"
          ],
          "name": "stdout"
        }
      ]
    },
    {
      "cell_type": "code",
      "metadata": {
        "id": "KHS7IP7RbOl7",
        "colab_type": "code",
        "outputId": "19fac2a3-3ba9-4609-fea9-9878f15b1bf1",
        "colab": {
          "base_uri": "https://localhost:8080/",
          "height": 187
        }
      },
      "source": [
        "import requests\n",
        "#pip install requests\n",
        "\n",
        "from bs4 import BeautifulSoup\n",
        "# pip install beautifulsoup4\n",
        "# Deny=> sudo pip install beautifulsoup4\n",
        "\n",
        "req = requests.get('https://www.google.com/search?q=trump+shutdown+IPO&hl=en&source=lnms&tbm=nws&sa=X&ved=0ahUKEwiv18iwjOngAhUFEawKHSTsDM0Q_AUIDigB&biw=1280&bih=640')\n",
        "html = req.text\n",
        "soup = BeautifulSoup(html, 'html.parser')\n",
        "my_titles = soup.select('h3')\n",
        "\n",
        "for title in my_titles:\n",
        "    print(title.text)\n",
        "   # print(title.get('href'))"
      ],
      "execution_count": 0,
      "outputs": [
        {
          "output_type": "stream",
          "text": [
            "How Trump and the Brexiteers froze the world's IPO market\n",
            "IPO Doldrums Reflect Shutdown's Woes Even as Resumption Averted\n",
            "Lyft and Uber will let some drivers get stock at the IPO price\n",
            "Gossamer Bio, After a Game of Government Shutdown Roulette ...\n",
            "4 Biotech Companies Trying to Launch IPOs Before Another ...\n",
            "Trump Claims He Was Totally “Misinterpreted” When He Said Kim ...\n",
            "Pinterest Files Confidentially for IPO\n",
            "Lyft IPO is a pure bet on the US ridesharing market\n",
            "Harpoon and Gossamer sneak out IPOs before potential SEC ...\n",
            "The US economy grew 2.9% in 2018\n"
          ],
          "name": "stdout"
        }
      ]
    }
  ]
}